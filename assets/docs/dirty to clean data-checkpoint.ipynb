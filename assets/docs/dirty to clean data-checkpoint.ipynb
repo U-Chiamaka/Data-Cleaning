{
 "cells": [
  {
   "cell_type": "code",
   "execution_count": null,
   "id": "9dfb18f0-1ba4-450d-a129-6782f8ab1219",
   "metadata": {},
   "outputs": [],
   "source": [
    "import pandas as pd\n",
    "dirt=pd.read_excel(\"Dirt.xlsx\")"
   ]
  },
  {
   "cell_type": "code",
   "execution_count": 25,
   "id": "9bccf0a0-d119-44e7-9ffc-554067b2824c",
   "metadata": {},
   "outputs": [
    {
     "data": {
      "text/html": [
       "<div>\n",
       "<style scoped>\n",
       "    .dataframe tbody tr th:only-of-type {\n",
       "        vertical-align: middle;\n",
       "    }\n",
       "\n",
       "    .dataframe tbody tr th {\n",
       "        vertical-align: top;\n",
       "    }\n",
       "\n",
       "    .dataframe thead th {\n",
       "        text-align: right;\n",
       "    }\n",
       "</style>\n",
       "<table border=\"1\" class=\"dataframe\">\n",
       "  <thead>\n",
       "    <tr style=\"text-align: right;\">\n",
       "      <th></th>\n",
       "      <th>Bio data with information on name, Email, age, City of Birth, and Gender</th>\n",
       "    </tr>\n",
       "  </thead>\n",
       "  <tbody>\n",
       "    <tr>\n",
       "      <th>0</th>\n",
       "      <td>ruqayyah salihu-ibrahimEmailruqayyahsalihu@@gm...</td>\n",
       "    </tr>\n",
       "    <tr>\n",
       "      <th>1</th>\n",
       "      <td>isere clementEmailisere@@gmail.com29;#YearsIwo...</td>\n",
       "    </tr>\n",
       "    <tr>\n",
       "      <th>2</th>\n",
       "      <td>mosunmola adenijiEmailmosunmola@@gmail.com17;#...</td>\n",
       "    </tr>\n",
       "    <tr>\n",
       "      <th>3</th>\n",
       "      <td>olumuyiwa oyebamijiEmailolumuyiwa@@gmail.com17...</td>\n",
       "    </tr>\n",
       "    <tr>\n",
       "      <th>4</th>\n",
       "      <td>ibrahim rahmanEmailibrahim@@gmail.com28;#Years...</td>\n",
       "    </tr>\n",
       "    <tr>\n",
       "      <th>5</th>\n",
       "      <td>ibrahim alarapeEmailibrahim@@gmail.com30;#Year...</td>\n",
       "    </tr>\n",
       "    <tr>\n",
       "      <th>6</th>\n",
       "      <td>kolawole nayinmotEmailkolawole@@gmail.com26;#Y...</td>\n",
       "    </tr>\n",
       "    <tr>\n",
       "      <th>7</th>\n",
       "      <td>temitope agudaEmailtemitope@@gmail.com23;#Year...</td>\n",
       "    </tr>\n",
       "    <tr>\n",
       "      <th>8</th>\n",
       "      <td>oladepo kehinde abdulsemiuEmailoladepokehinde@...</td>\n",
       "    </tr>\n",
       "    <tr>\n",
       "      <th>9</th>\n",
       "      <td>tijani muhydeenEmailtijaniokuwafemi@@gmail.com...</td>\n",
       "    </tr>\n",
       "    <tr>\n",
       "      <th>10</th>\n",
       "      <td>adebayo abdulrahmanEmailadebayoabdulrahman@@gm...</td>\n",
       "    </tr>\n",
       "    <tr>\n",
       "      <th>11</th>\n",
       "      <td>abdulwahab mustaphaEmailabdulwahab@@gmail.com2...</td>\n",
       "    </tr>\n",
       "    <tr>\n",
       "      <th>12</th>\n",
       "      <td>adisa muritalaEmailadisa@@gmail.com29;#YearsIf...</td>\n",
       "    </tr>\n",
       "    <tr>\n",
       "      <th>13</th>\n",
       "      <td>atitebi zaynabEmailatitebizaynab@@gmail.com28;...</td>\n",
       "    </tr>\n",
       "    <tr>\n",
       "      <th>14</th>\n",
       "      <td>hassana abdulkadirEmailhassana@@gmail.com16;#Y...</td>\n",
       "    </tr>\n",
       "    <tr>\n",
       "      <th>15</th>\n",
       "      <td>asmau nurainEmailasmau@@gmail.com27;#YearsMush...</td>\n",
       "    </tr>\n",
       "    <tr>\n",
       "      <th>16</th>\n",
       "      <td>afolabi saheedEmailafolabi@@gmail.com21;#Years...</td>\n",
       "    </tr>\n",
       "    <tr>\n",
       "      <th>17</th>\n",
       "      <td>tolu popoolaEmailtolu@@gmail.com16;#YearsSurul...</td>\n",
       "    </tr>\n",
       "    <tr>\n",
       "      <th>18</th>\n",
       "      <td>rohemot abdulkareemEmailrohemotmoromoke@@gmail...</td>\n",
       "    </tr>\n",
       "    <tr>\n",
       "      <th>19</th>\n",
       "      <td>ashimiyu-abdusalam zainabEmailashimiyuabdusala...</td>\n",
       "    </tr>\n",
       "    <tr>\n",
       "      <th>20</th>\n",
       "      <td>adesanya mueezEmailadesanyaolanrewaju@@gmail.c...</td>\n",
       "    </tr>\n",
       "  </tbody>\n",
       "</table>\n",
       "</div>"
      ],
      "text/plain": [
       "   Bio data with information on name, Email, age, City of Birth, and Gender\n",
       "0   ruqayyah salihu-ibrahimEmailruqayyahsalihu@@gm...                      \n",
       "1   isere clementEmailisere@@gmail.com29;#YearsIwo...                      \n",
       "2   mosunmola adenijiEmailmosunmola@@gmail.com17;#...                      \n",
       "3   olumuyiwa oyebamijiEmailolumuyiwa@@gmail.com17...                      \n",
       "4   ibrahim rahmanEmailibrahim@@gmail.com28;#Years...                      \n",
       "5   ibrahim alarapeEmailibrahim@@gmail.com30;#Year...                      \n",
       "6   kolawole nayinmotEmailkolawole@@gmail.com26;#Y...                      \n",
       "7   temitope agudaEmailtemitope@@gmail.com23;#Year...                      \n",
       "8   oladepo kehinde abdulsemiuEmailoladepokehinde@...                      \n",
       "9   tijani muhydeenEmailtijaniokuwafemi@@gmail.com...                      \n",
       "10  adebayo abdulrahmanEmailadebayoabdulrahman@@gm...                      \n",
       "11  abdulwahab mustaphaEmailabdulwahab@@gmail.com2...                      \n",
       "12  adisa muritalaEmailadisa@@gmail.com29;#YearsIf...                      \n",
       "13  atitebi zaynabEmailatitebizaynab@@gmail.com28;...                      \n",
       "14  hassana abdulkadirEmailhassana@@gmail.com16;#Y...                      \n",
       "15  asmau nurainEmailasmau@@gmail.com27;#YearsMush...                      \n",
       "16  afolabi saheedEmailafolabi@@gmail.com21;#Years...                      \n",
       "17  tolu popoolaEmailtolu@@gmail.com16;#YearsSurul...                      \n",
       "18  rohemot abdulkareemEmailrohemotmoromoke@@gmail...                      \n",
       "19  ashimiyu-abdusalam zainabEmailashimiyuabdusala...                      \n",
       "20  adesanya mueezEmailadesanyaolanrewaju@@gmail.c...                      "
      ]
     },
     "execution_count": 25,
     "metadata": {},
     "output_type": "execute_result"
    }
   ],
   "source": [
    "dirt"
   ]
  },
  {
   "cell_type": "code",
   "execution_count": null,
   "id": "831ec49d-abe8-4cc7-b362-71cb88ee8228",
   "metadata": {},
   "outputs": [],
   "source": [
    "a=dirt[\"Bio data with information on name, Email, age, City of Birth, and Gender\"].str.split(\";\",expand=True)"
   ]
  },
  {
   "cell_type": "code",
   "execution_count": null,
   "id": "492b41e5-841a-4f94-8e8b-32553c56bc5b",
   "metadata": {},
   "outputs": [],
   "source": [
    "a"
   ]
  },
  {
   "cell_type": "code",
   "execution_count": null,
   "id": "bf14a967-fc76-4c3e-87d1-ffeaadad10f1",
   "metadata": {},
   "outputs": [],
   "source": [
    "a[[3,4]]=a[1].str.split(\" \",expand=True)"
   ]
  },
  {
   "cell_type": "code",
   "execution_count": null,
   "id": "2b632cd2-c1d6-4d0a-b548-0cce4a8db8dd",
   "metadata": {},
   "outputs": [],
   "source": [
    "a"
   ]
  },
  {
   "cell_type": "code",
   "execution_count": null,
   "id": "6d899141-2ba4-42e6-83dc-cb4d94bd411e",
   "metadata": {},
   "outputs": [],
   "source": [
    "a[[0,1]]=a[0].str.split(\"Email\",expand=True)"
   ]
  },
  {
   "cell_type": "code",
   "execution_count": null,
   "id": "16d5f1b9-6ac6-4d48-8301-5ac9f75723f2",
   "metadata": {},
   "outputs": [],
   "source": [
    "a"
   ]
  },
  {
   "cell_type": "code",
   "execution_count": null,
   "id": "28520d66-bb93-4dc4-8dd9-060b9d6fa88c",
   "metadata": {},
   "outputs": [],
   "source": [
    "a[1]=a[1].str.replace(\"com\",\"com,\")\n",
    "a"
   ]
  },
  {
   "cell_type": "code",
   "execution_count": null,
   "id": "27bd1a37-1e1a-4023-a0ea-e6fade8f687b",
   "metadata": {},
   "outputs": [],
   "source": [
    "a[[1,\"Age\"]]=a[1].str.split(\",\",expand=True)"
   ]
  },
  {
   "cell_type": "code",
   "execution_count": null,
   "id": "0a356ac4-d0ce-443c-8608-b1fe25945c38",
   "metadata": {},
   "outputs": [],
   "source": [
    "a"
   ]
  },
  {
   "cell_type": "code",
   "execution_count": null,
   "id": "645865fc-1835-41a3-a71f-c91a67f75733",
   "metadata": {},
   "outputs": [],
   "source": [
    "a[4]=a[4].str.replace(\"Gender\",\"\")\n",
    "a"
   ]
  },
  {
   "cell_type": "code",
   "execution_count": null,
   "id": "972b9909-5550-47a7-89bb-973952c54f0f",
   "metadata": {},
   "outputs": [],
   "source": [
    "a[3]=a[3].str.replace(\"#Years\",\"\")"
   ]
  },
  {
   "cell_type": "code",
   "execution_count": null,
   "id": "c3268fb5-f95d-4e91-ae38-10044c0519d6",
   "metadata": {},
   "outputs": [],
   "source": [
    "a[1]=a[1].str.replace(\"@@\",\"@\")\n"
   ]
  },
  {
   "cell_type": "code",
   "execution_count": null,
   "id": "2f0dfdd7-81fc-4088-84d8-408ce92e024b",
   "metadata": {},
   "outputs": [],
   "source": [
    "a"
   ]
  },
  {
   "cell_type": "code",
   "execution_count": null,
   "id": "6624c04e-6572-4c3a-90e0-6406a9fef3d1",
   "metadata": {},
   "outputs": [],
   "source": [
    "a.rename(columns={0:\"Name\",1:\"Email\",3:\"Birth City\",4:\"Gender\"},inplace=True)\n",
    "a"
   ]
  },
  {
   "cell_type": "code",
   "execution_count": null,
   "id": "abdcc21f-1eeb-4f6d-b34a-1193da43ea7e",
   "metadata": {},
   "outputs": [],
   "source": [
    "age=a.pop(\"Age\")"
   ]
  },
  {
   "cell_type": "code",
   "execution_count": null,
   "id": "c62babf4-910e-4c6a-a17f-241a59f4d416",
   "metadata": {},
   "outputs": [],
   "source": [
    "a.insert(2,\"Age\",age)"
   ]
  },
  {
   "cell_type": "code",
   "execution_count": null,
   "id": "acc79e9a-77f9-4b6f-9b6e-51b3fe545dd3",
   "metadata": {},
   "outputs": [],
   "source": [
    "a"
   ]
  },
  {
   "cell_type": "code",
   "execution_count": null,
   "id": "57d47f84-19c3-445b-9f5b-ea41fb022f25",
   "metadata": {},
   "outputs": [],
   "source": [
    "a[\"Name\"]=a[\"Name\"].str.title()"
   ]
  },
  {
   "cell_type": "code",
   "execution_count": null,
   "id": "1f4e55b3-0455-4ef5-9a32-5945752b6499",
   "metadata": {},
   "outputs": [],
   "source": [
    "a[\"Email\"]=a[\"Email\"].str.capitalize()"
   ]
  },
  {
   "cell_type": "code",
   "execution_count": null,
   "id": "bc5fa040-1e3b-426f-a544-38db805f256e",
   "metadata": {},
   "outputs": [],
   "source": [
    "a"
   ]
  },
  {
   "cell_type": "code",
   "execution_count": 24,
   "id": "ddabbd45-c111-44f1-9be5-b22082c0883d",
   "metadata": {},
   "outputs": [],
   "source": [
    "a.to_csv(\"Clean data.csv\",index=False)"
   ]
  },
  {
   "cell_type": "code",
   "execution_count": null,
   "id": "34faa486-1f07-4a85-8d52-743fbc13dc86",
   "metadata": {},
   "outputs": [],
   "source": []
  }
 ],
 "metadata": {
  "kernelspec": {
   "display_name": "Python 3 (ipykernel)",
   "language": "python",
   "name": "python3"
  },
  "language_info": {
   "codemirror_mode": {
    "name": "ipython",
    "version": 3
   },
   "file_extension": ".py",
   "mimetype": "text/x-python",
   "name": "python",
   "nbconvert_exporter": "python",
   "pygments_lexer": "ipython3",
   "version": "3.11.7"
  }
 },
 "nbformat": 4,
 "nbformat_minor": 5
}
